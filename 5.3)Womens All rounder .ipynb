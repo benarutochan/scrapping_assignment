{
 "cells": [
  {
   "cell_type": "code",
   "execution_count": 1,
   "id": "c9bf6a8d",
   "metadata": {},
   "outputs": [],
   "source": [
    "# we firstly send request to the server.\n",
    "from bs4 import BeautifulSoup\n",
    "import requests"
   ]
  },
  {
   "cell_type": "code",
   "execution_count": 2,
   "id": "2323081e",
   "metadata": {},
   "outputs": [
    {
     "data": {
      "text/plain": [
       "<Response [200]>"
      ]
     },
     "execution_count": 2,
     "metadata": {},
     "output_type": "execute_result"
    }
   ],
   "source": [
    "# we firstly send request to the server.\n",
    "from bs4 import BeautifulSoup\n",
    "import requests\n",
    "page=requests.get('https://www.icc-cricket.com/rankings/womens/player-rankings/odi')\n",
    "page"
   ]
  },
  {
   "cell_type": "code",
   "execution_count": 3,
   "id": "6ee5477a",
   "metadata": {},
   "outputs": [],
   "source": [
    "soup= BeautifulSoup(page.content)"
   ]
  },
  {
   "cell_type": "code",
   "execution_count": 4,
   "id": "7b315ca9",
   "metadata": {},
   "outputs": [
    {
     "data": {
      "text/plain": [
       "[' Alyssa Healy ',\n",
       " ' Mithali Raj ',\n",
       " ' Tammy Beaumont ',\n",
       " ' Amy Satterthwaite ',\n",
       " ' Smriti Mandhana ',\n",
       " ' Meg Lanning ',\n",
       " ' Beth Mooney ',\n",
       " ' Stafanie Taylor ',\n",
       " ' Heather Knight ',\n",
       " ' Jhulan Goswami ',\n",
       " ' Megan Schutt ',\n",
       " ' Marizanne Kapp ',\n",
       " ' Sophie Ecclestone ',\n",
       " ' Shabnim Ismail ',\n",
       " ' Katherine Brunt ',\n",
       " ' Ayabonga Khaka ',\n",
       " ' Anya Shrubsole ',\n",
       " ' Kate Cross ',\n",
       " ' Natalie Sciver ',\n",
       " ' Ellyse Perry ',\n",
       " ' Stafanie Taylor ',\n",
       " ' Deepti Sharma ',\n",
       " ' Ashleigh Gardner ',\n",
       " ' Dane van Niekerk ',\n",
       " ' Hayley Matthews ',\n",
       " ' Jess Jonassen ',\n",
       " ' Katherine Brunt ']"
      ]
     },
     "execution_count": 4,
     "metadata": {},
     "output_type": "execute_result"
    }
   ],
   "source": [
    "allrounder =[]     # give empty list here\n",
    "for i in soup.find_all('td',class_=\"table-body__cell name\"):\n",
    "    allrounder.append(i.text.replace('\\n',' '))\n",
    "    allrounder=allrounder[:]\n",
    "allrounder\n",
    "### All-Rounder ranking."
   ]
  },
  {
   "cell_type": "code",
   "execution_count": 5,
   "id": "e205e83b",
   "metadata": {},
   "outputs": [
    {
     "data": {
      "text/plain": [
       "['AUS',\n",
       " 'IND',\n",
       " 'ENG',\n",
       " 'NZ',\n",
       " 'IND',\n",
       " 'AUS',\n",
       " 'AUS',\n",
       " 'WI',\n",
       " 'ENG',\n",
       " 'IND',\n",
       " 'AUS',\n",
       " 'SA',\n",
       " 'ENG',\n",
       " 'SA',\n",
       " 'ENG',\n",
       " 'SA',\n",
       " 'ENG',\n",
       " 'ENG',\n",
       " 'ENG',\n",
       " 'AUS',\n",
       " 'WI',\n",
       " 'IND',\n",
       " 'AUS',\n",
       " 'SA',\n",
       " 'WI',\n",
       " 'AUS',\n",
       " 'ENG']"
      ]
     },
     "execution_count": 5,
     "metadata": {},
     "output_type": "execute_result"
    }
   ],
   "source": [
    "teams =[]     # give empty list here\n",
    "for i in soup.find_all('span',class_=\"table-body__logo-text\"):\n",
    "    teams.append(i.text.replace('\\n',' '))\n",
    "    \n",
    "teams\n",
    "### All-Rounder ranking."
   ]
  },
  {
   "cell_type": "code",
   "execution_count": 6,
   "id": "411d3e84",
   "metadata": {},
   "outputs": [
    {
     "data": {
      "text/plain": [
       "['750',\n",
       " '738',\n",
       " '728',\n",
       " '717',\n",
       " '710',\n",
       " '699',\n",
       " '690',\n",
       " '676',\n",
       " '674',\n",
       " '727',\n",
       " '717',\n",
       " '715',\n",
       " '701',\n",
       " '688',\n",
       " '666',\n",
       " '643',\n",
       " '598',\n",
       " '589',\n",
       " '372',\n",
       " '365',\n",
       " '319',\n",
       " '299',\n",
       " '275',\n",
       " '274',\n",
       " '272',\n",
       " '272',\n",
       " '272']"
      ]
     },
     "execution_count": 6,
     "metadata": {},
     "output_type": "execute_result"
    }
   ],
   "source": [
    "rating =[]     # give empty list here\n",
    "for i in soup.find_all('td',class_=\"table-body__cell u-text-right rating\"):\n",
    "    rating.append(i.text)\n",
    "    \n",
    "rating\n",
    "### All-Rounder ranking."
   ]
  },
  {
   "cell_type": "code",
   "execution_count": 7,
   "id": "bdef6ac2",
   "metadata": {},
   "outputs": [
    {
     "name": "stdout",
     "output_type": "stream",
     "text": [
      "27 27 27\n"
     ]
    }
   ],
   "source": [
    "print(len(allrounder),len(teams),len(rating))"
   ]
  },
  {
   "cell_type": "code",
   "execution_count": 8,
   "id": "160f89a9",
   "metadata": {},
   "outputs": [],
   "source": [
    "import pandas as pd"
   ]
  },
  {
   "cell_type": "code",
   "execution_count": 9,
   "id": "532e7d13",
   "metadata": {
    "scrolled": true
   },
   "outputs": [
    {
     "data": {
      "text/html": [
       "<div>\n",
       "<style scoped>\n",
       "    .dataframe tbody tr th:only-of-type {\n",
       "        vertical-align: middle;\n",
       "    }\n",
       "\n",
       "    .dataframe tbody tr th {\n",
       "        vertical-align: top;\n",
       "    }\n",
       "\n",
       "    .dataframe thead th {\n",
       "        text-align: right;\n",
       "    }\n",
       "</style>\n",
       "<table border=\"1\" class=\"dataframe\">\n",
       "  <thead>\n",
       "    <tr style=\"text-align: right;\">\n",
       "      <th></th>\n",
       "      <th>Top 10 ODI(Women) All-rounder</th>\n",
       "      <th>Team</th>\n",
       "      <th>Rating</th>\n",
       "    </tr>\n",
       "  </thead>\n",
       "  <tbody>\n",
       "    <tr>\n",
       "      <th>18</th>\n",
       "      <td>Natalie Sciver</td>\n",
       "      <td>ENG</td>\n",
       "      <td>372</td>\n",
       "    </tr>\n",
       "    <tr>\n",
       "      <th>19</th>\n",
       "      <td>Ellyse Perry</td>\n",
       "      <td>AUS</td>\n",
       "      <td>365</td>\n",
       "    </tr>\n",
       "    <tr>\n",
       "      <th>20</th>\n",
       "      <td>Stafanie Taylor</td>\n",
       "      <td>WI</td>\n",
       "      <td>319</td>\n",
       "    </tr>\n",
       "    <tr>\n",
       "      <th>21</th>\n",
       "      <td>Deepti Sharma</td>\n",
       "      <td>IND</td>\n",
       "      <td>299</td>\n",
       "    </tr>\n",
       "    <tr>\n",
       "      <th>22</th>\n",
       "      <td>Ashleigh Gardner</td>\n",
       "      <td>AUS</td>\n",
       "      <td>275</td>\n",
       "    </tr>\n",
       "    <tr>\n",
       "      <th>23</th>\n",
       "      <td>Dane van Niekerk</td>\n",
       "      <td>SA</td>\n",
       "      <td>274</td>\n",
       "    </tr>\n",
       "    <tr>\n",
       "      <th>24</th>\n",
       "      <td>Hayley Matthews</td>\n",
       "      <td>WI</td>\n",
       "      <td>272</td>\n",
       "    </tr>\n",
       "    <tr>\n",
       "      <th>25</th>\n",
       "      <td>Jess Jonassen</td>\n",
       "      <td>AUS</td>\n",
       "      <td>272</td>\n",
       "    </tr>\n",
       "    <tr>\n",
       "      <th>26</th>\n",
       "      <td>Katherine Brunt</td>\n",
       "      <td>ENG</td>\n",
       "      <td>272</td>\n",
       "    </tr>\n",
       "  </tbody>\n",
       "</table>\n",
       "</div>"
      ],
      "text/plain": [
       "   Top 10 ODI(Women) All-rounder Team Rating\n",
       "18               Natalie Sciver   ENG    372\n",
       "19                 Ellyse Perry   AUS    365\n",
       "20              Stafanie Taylor    WI    319\n",
       "21                Deepti Sharma   IND    299\n",
       "22             Ashleigh Gardner   AUS    275\n",
       "23             Dane van Niekerk    SA    274\n",
       "24              Hayley Matthews    WI    272\n",
       "25                Jess Jonassen   AUS    272\n",
       "26              Katherine Brunt   ENG    272"
      ]
     },
     "execution_count": 9,
     "metadata": {},
     "output_type": "execute_result"
    }
   ],
   "source": [
    "df=pd.DataFrame({'Top 10 ODI(Women) All-rounder':allrounder,'Team':teams,'Rating':rating})\n",
    "update_df = df.drop([df.index[0],df.index[1], df.index[2],df.index[3], df.index[4],df.index[5],df.index[6],df.index[7],df.index[8],df.index[9],df.index[10],df.index[11],df.index[12],df.index[13],df.index[14],df.index[15],df.index[16],df.index[17]])\n",
    "\n",
    "update_df\n"
   ]
  },
  {
   "cell_type": "code",
   "execution_count": null,
   "id": "a44cb039",
   "metadata": {},
   "outputs": [],
   "source": []
  }
 ],
 "metadata": {
  "kernelspec": {
   "display_name": "Python 3",
   "language": "python",
   "name": "python3"
  },
  "language_info": {
   "codemirror_mode": {
    "name": "ipython",
    "version": 3
   },
   "file_extension": ".py",
   "mimetype": "text/x-python",
   "name": "python",
   "nbconvert_exporter": "python",
   "pygments_lexer": "ipython3",
   "version": "3.8.8"
  }
 },
 "nbformat": 4,
 "nbformat_minor": 5
}

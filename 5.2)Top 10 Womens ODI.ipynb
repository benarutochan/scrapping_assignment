{
 "cells": [
  {
   "cell_type": "code",
   "execution_count": 1,
   "id": "c9bf6a8d",
   "metadata": {},
   "outputs": [],
   "source": [
    "# we firstly send request to the server.\n",
    "from bs4 import BeautifulSoup\n",
    "import requests"
   ]
  },
  {
   "cell_type": "code",
   "execution_count": 2,
   "id": "2323081e",
   "metadata": {},
   "outputs": [
    {
     "data": {
      "text/plain": [
       "<Response [200]>"
      ]
     },
     "execution_count": 2,
     "metadata": {},
     "output_type": "execute_result"
    }
   ],
   "source": [
    "# we firstly send request to the server.\n",
    "from bs4 import BeautifulSoup\n",
    "import requests\n",
    "page=requests.get('https://www.icc-cricket.com/rankings/womens/player-rankings/odi')\n",
    "page"
   ]
  },
  {
   "cell_type": "code",
   "execution_count": 3,
   "id": "6ee5477a",
   "metadata": {},
   "outputs": [],
   "source": [
    "soup= BeautifulSoup(page.content)"
   ]
  },
  {
   "cell_type": "code",
   "execution_count": 4,
   "id": "7a16bc4f",
   "metadata": {},
   "outputs": [
    {
     "data": {
      "text/plain": [
       "'Lizelle Lee'"
      ]
     },
     "execution_count": 4,
     "metadata": {},
     "output_type": "execute_result"
    }
   ],
   "source": [
    "Wname=soup.find('div',class_=\"rankings-block__banner--name\")\n",
    "Wname.text"
   ]
  },
  {
   "cell_type": "code",
   "execution_count": 5,
   "id": "913a01d2",
   "metadata": {},
   "outputs": [
    {
     "data": {
      "text/plain": [
       "['Lizelle Lee', 'Jess Jonassen', 'Marizanne Kapp']"
      ]
     },
     "execution_count": 5,
     "metadata": {},
     "output_type": "execute_result"
    }
   ],
   "source": [
    "Wname =[]     # give empty list here\n",
    "for i in soup.find_all('div',class_=\"rankings-block__banner--name\"):\n",
    "    Wname.append(i.text)\n",
    "Wname"
   ]
  },
  {
   "cell_type": "code",
   "execution_count": 6,
   "id": "975354f7",
   "metadata": {},
   "outputs": [
    {
     "data": {
      "text/plain": [
       "[' Alyssa Healy ',\n",
       " ' Mithali Raj ',\n",
       " ' Tammy Beaumont ',\n",
       " ' Amy Satterthwaite ',\n",
       " ' Smriti Mandhana ',\n",
       " ' Meg Lanning ',\n",
       " ' Beth Mooney ',\n",
       " ' Stafanie Taylor ',\n",
       " ' Heather Knight ']"
      ]
     },
     "execution_count": 6,
     "metadata": {},
     "output_type": "execute_result"
    }
   ],
   "source": [
    "Wname =[]     # give empty list here\n",
    "for i in soup.find_all('td',class_=\"table-body__cell name\"):\n",
    "    Wname.append(i.text.replace('\\n',' '))\n",
    "    Wname= Wname[:9] \n",
    "Wname\n",
    "### Bating ranking."
   ]
  },
  {
   "cell_type": "code",
   "execution_count": 7,
   "id": "7b315ca9",
   "metadata": {},
   "outputs": [
    {
     "data": {
      "text/plain": [
       "['AUS', 'IND', 'ENG', 'NZ', 'IND', 'AUS', 'AUS', 'WI', 'ENG']"
      ]
     },
     "execution_count": 7,
     "metadata": {},
     "output_type": "execute_result"
    }
   ],
   "source": [
    "teams =[]     # give empty list here\n",
    "for i in soup.find_all('span',class_=\"table-body__logo-text\"):\n",
    "    teams.append(i.text)\n",
    "    teams= teams[:9] \n",
    "teams\n",
    "### Bating ranking."
   ]
  },
  {
   "cell_type": "code",
   "execution_count": 8,
   "id": "e205e83b",
   "metadata": {},
   "outputs": [
    {
     "data": {
      "text/plain": [
       "['750', '738', '728', '717', '710', '699', '690', '676', '674']"
      ]
     },
     "execution_count": 8,
     "metadata": {},
     "output_type": "execute_result"
    }
   ],
   "source": [
    "rating =[]     # give empty list here\n",
    "for i in soup.find_all('td',class_=\"table-body__cell u-text-right rating\"):\n",
    "    rating.append(i.text)\n",
    "    rating= rating[:9] \n",
    "rating\n",
    "### Bating ranking."
   ]
  },
  {
   "cell_type": "code",
   "execution_count": 9,
   "id": "411d3e84",
   "metadata": {},
   "outputs": [],
   "source": [
    "import pandas as pd\n"
   ]
  },
  {
   "cell_type": "code",
   "execution_count": 10,
   "id": "bdef6ac2",
   "metadata": {},
   "outputs": [
    {
     "name": "stdout",
     "output_type": "stream",
     "text": [
      "9 9 9\n"
     ]
    }
   ],
   "source": [
    "# print length\n",
    "print(len(Wname),len(teams),len(rating))"
   ]
  },
  {
   "cell_type": "code",
   "execution_count": 11,
   "id": "d5371012",
   "metadata": {},
   "outputs": [
    {
     "data": {
      "text/html": [
       "<div>\n",
       "<style scoped>\n",
       "    .dataframe tbody tr th:only-of-type {\n",
       "        vertical-align: middle;\n",
       "    }\n",
       "\n",
       "    .dataframe tbody tr th {\n",
       "        vertical-align: top;\n",
       "    }\n",
       "\n",
       "    .dataframe thead th {\n",
       "        text-align: right;\n",
       "    }\n",
       "</style>\n",
       "<table border=\"1\" class=\"dataframe\">\n",
       "  <thead>\n",
       "    <tr style=\"text-align: right;\">\n",
       "      <th></th>\n",
       "      <th>Top 10 ODI(Women) Batsman</th>\n",
       "      <th>Team</th>\n",
       "      <th>Rating</th>\n",
       "    </tr>\n",
       "  </thead>\n",
       "  <tbody>\n",
       "    <tr>\n",
       "      <th>0</th>\n",
       "      <td>Alyssa Healy</td>\n",
       "      <td>AUS</td>\n",
       "      <td>750</td>\n",
       "    </tr>\n",
       "    <tr>\n",
       "      <th>1</th>\n",
       "      <td>Mithali Raj</td>\n",
       "      <td>IND</td>\n",
       "      <td>738</td>\n",
       "    </tr>\n",
       "    <tr>\n",
       "      <th>2</th>\n",
       "      <td>Tammy Beaumont</td>\n",
       "      <td>ENG</td>\n",
       "      <td>728</td>\n",
       "    </tr>\n",
       "    <tr>\n",
       "      <th>3</th>\n",
       "      <td>Amy Satterthwaite</td>\n",
       "      <td>NZ</td>\n",
       "      <td>717</td>\n",
       "    </tr>\n",
       "    <tr>\n",
       "      <th>4</th>\n",
       "      <td>Smriti Mandhana</td>\n",
       "      <td>IND</td>\n",
       "      <td>710</td>\n",
       "    </tr>\n",
       "    <tr>\n",
       "      <th>5</th>\n",
       "      <td>Meg Lanning</td>\n",
       "      <td>AUS</td>\n",
       "      <td>699</td>\n",
       "    </tr>\n",
       "    <tr>\n",
       "      <th>6</th>\n",
       "      <td>Beth Mooney</td>\n",
       "      <td>AUS</td>\n",
       "      <td>690</td>\n",
       "    </tr>\n",
       "    <tr>\n",
       "      <th>7</th>\n",
       "      <td>Stafanie Taylor</td>\n",
       "      <td>WI</td>\n",
       "      <td>676</td>\n",
       "    </tr>\n",
       "    <tr>\n",
       "      <th>8</th>\n",
       "      <td>Heather Knight</td>\n",
       "      <td>ENG</td>\n",
       "      <td>674</td>\n",
       "    </tr>\n",
       "  </tbody>\n",
       "</table>\n",
       "</div>"
      ],
      "text/plain": [
       "  Top 10 ODI(Women) Batsman Team Rating\n",
       "0             Alyssa Healy   AUS    750\n",
       "1              Mithali Raj   IND    738\n",
       "2           Tammy Beaumont   ENG    728\n",
       "3        Amy Satterthwaite    NZ    717\n",
       "4          Smriti Mandhana   IND    710\n",
       "5              Meg Lanning   AUS    699\n",
       "6              Beth Mooney   AUS    690\n",
       "7          Stafanie Taylor    WI    676\n",
       "8           Heather Knight   ENG    674"
      ]
     },
     "execution_count": 11,
     "metadata": {},
     "output_type": "execute_result"
    }
   ],
   "source": [
    "df=pd.DataFrame({'Top 10 ODI(Women) Batsman':Wname,'Team':teams,'Rating':rating})\n",
    "df\n"
   ]
  },
  {
   "cell_type": "code",
   "execution_count": 12,
   "id": "8742df62",
   "metadata": {},
   "outputs": [],
   "source": [
    "df.insert(2,'ty',Wname)\n",
    "## for practice i use this above is the output."
   ]
  },
  {
   "cell_type": "code",
   "execution_count": 13,
   "id": "fd1749c1",
   "metadata": {},
   "outputs": [
    {
     "data": {
      "text/html": [
       "<div>\n",
       "<style scoped>\n",
       "    .dataframe tbody tr th:only-of-type {\n",
       "        vertical-align: middle;\n",
       "    }\n",
       "\n",
       "    .dataframe tbody tr th {\n",
       "        vertical-align: top;\n",
       "    }\n",
       "\n",
       "    .dataframe thead th {\n",
       "        text-align: right;\n",
       "    }\n",
       "</style>\n",
       "<table border=\"1\" class=\"dataframe\">\n",
       "  <thead>\n",
       "    <tr style=\"text-align: right;\">\n",
       "      <th></th>\n",
       "      <th>Top 10 ODI(Women) Batsman</th>\n",
       "      <th>Team</th>\n",
       "      <th>ty</th>\n",
       "      <th>Rating</th>\n",
       "    </tr>\n",
       "  </thead>\n",
       "  <tbody>\n",
       "    <tr>\n",
       "      <th>0</th>\n",
       "      <td>Alyssa Healy</td>\n",
       "      <td>AUS</td>\n",
       "      <td>Alyssa Healy</td>\n",
       "      <td>750</td>\n",
       "    </tr>\n",
       "    <tr>\n",
       "      <th>1</th>\n",
       "      <td>Mithali Raj</td>\n",
       "      <td>IND</td>\n",
       "      <td>Mithali Raj</td>\n",
       "      <td>738</td>\n",
       "    </tr>\n",
       "    <tr>\n",
       "      <th>2</th>\n",
       "      <td>Tammy Beaumont</td>\n",
       "      <td>ENG</td>\n",
       "      <td>Tammy Beaumont</td>\n",
       "      <td>728</td>\n",
       "    </tr>\n",
       "    <tr>\n",
       "      <th>3</th>\n",
       "      <td>Amy Satterthwaite</td>\n",
       "      <td>NZ</td>\n",
       "      <td>Amy Satterthwaite</td>\n",
       "      <td>717</td>\n",
       "    </tr>\n",
       "    <tr>\n",
       "      <th>4</th>\n",
       "      <td>Smriti Mandhana</td>\n",
       "      <td>IND</td>\n",
       "      <td>Smriti Mandhana</td>\n",
       "      <td>710</td>\n",
       "    </tr>\n",
       "    <tr>\n",
       "      <th>5</th>\n",
       "      <td>Meg Lanning</td>\n",
       "      <td>AUS</td>\n",
       "      <td>Meg Lanning</td>\n",
       "      <td>699</td>\n",
       "    </tr>\n",
       "    <tr>\n",
       "      <th>6</th>\n",
       "      <td>Beth Mooney</td>\n",
       "      <td>AUS</td>\n",
       "      <td>Beth Mooney</td>\n",
       "      <td>690</td>\n",
       "    </tr>\n",
       "    <tr>\n",
       "      <th>7</th>\n",
       "      <td>Stafanie Taylor</td>\n",
       "      <td>WI</td>\n",
       "      <td>Stafanie Taylor</td>\n",
       "      <td>676</td>\n",
       "    </tr>\n",
       "    <tr>\n",
       "      <th>8</th>\n",
       "      <td>Heather Knight</td>\n",
       "      <td>ENG</td>\n",
       "      <td>Heather Knight</td>\n",
       "      <td>674</td>\n",
       "    </tr>\n",
       "  </tbody>\n",
       "</table>\n",
       "</div>"
      ],
      "text/plain": [
       "  Top 10 ODI(Women) Batsman Team                   ty Rating\n",
       "0             Alyssa Healy   AUS        Alyssa Healy     750\n",
       "1              Mithali Raj   IND         Mithali Raj     738\n",
       "2           Tammy Beaumont   ENG      Tammy Beaumont     728\n",
       "3        Amy Satterthwaite    NZ   Amy Satterthwaite     717\n",
       "4          Smriti Mandhana   IND     Smriti Mandhana     710\n",
       "5              Meg Lanning   AUS         Meg Lanning     699\n",
       "6              Beth Mooney   AUS         Beth Mooney     690\n",
       "7          Stafanie Taylor    WI     Stafanie Taylor     676\n",
       "8           Heather Knight   ENG      Heather Knight     674"
      ]
     },
     "execution_count": 13,
     "metadata": {},
     "output_type": "execute_result"
    }
   ],
   "source": [
    "df"
   ]
  },
  {
   "cell_type": "code",
   "execution_count": null,
   "id": "ae3853ff",
   "metadata": {},
   "outputs": [],
   "source": []
  }
 ],
 "metadata": {
  "kernelspec": {
   "display_name": "Python 3",
   "language": "python",
   "name": "python3"
  },
  "language_info": {
   "codemirror_mode": {
    "name": "ipython",
    "version": 3
   },
   "file_extension": ".py",
   "mimetype": "text/x-python",
   "name": "python",
   "nbconvert_exporter": "python",
   "pygments_lexer": "ipython3",
   "version": "3.8.8"
  }
 },
 "nbformat": 4,
 "nbformat_minor": 5
}

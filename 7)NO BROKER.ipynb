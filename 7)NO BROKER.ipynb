{
 "cells": [
  {
   "cell_type": "code",
   "execution_count": 1,
   "id": "cbdcbb3e",
   "metadata": {},
   "outputs": [
    {
     "data": {
      "text/plain": [
       "<Response [200]>"
      ]
     },
     "execution_count": 1,
     "metadata": {},
     "output_type": "execute_result"
    }
   ],
   "source": [
    "## we firstly send request to the server.\n",
    "from bs4 import BeautifulSoup\n",
    "import requests\n",
    "page=requests.get('https://www.nobroker.in/property/sale/bangalore/Electronic%20City?type=BHK4&searchParam=W3sibGF0IjoxMi44N%20DUyMTQ1LCJsb24iOjc3LjY2MDE2OTUsInBsYWNlSWQiOiJDaElKdy1GUWQ0cHNyanNSSGZkYXpnXzhYRW8%20iLCJwbGFjZU5hbWUiOiJFbGVjdHJvbmljIENpdHkifV0=&propertyAge=0&radius=2.0')\n",
    "page"
   ]
  },
  {
   "cell_type": "code",
   "execution_count": 2,
   "id": "c48ce9b2",
   "metadata": {},
   "outputs": [],
   "source": [
    "soup= BeautifulSoup(page.content)"
   ]
  },
  {
   "cell_type": "code",
   "execution_count": 3,
   "id": "913660d8",
   "metadata": {},
   "outputs": [
    {
     "data": {
      "text/plain": [
       "<h2 class=\"heading-6 font-semi-bold nb__25Cl7\"><span itemprop=\"name\">4 BHK In Independent House  For Sale  In Hebbagodi</span> <svg class=\"\" style=\"width:24px;height:24px;margin:2px\" type=\"link\" viewbox=\"0 0 24 24\"><path class=\"\" d=\"M18,10.82a1,1,0,0,0-1,1V19a1,1,0,0,1-1,1H5a1,1,0,0,1-1-1V8A1,1,0,0,1,5,7h7.18a1,1,0,0,0,0-2H5A3,3,0,0,0,2,8V19a3,3,0,0,0,3,3H16a3,3,0,0,0,3-3V11.82A1,1,0,0,0,18,10.82Zm3.92-8.2a1,1,0,0,0-.54-.54A1,1,0,0,0,21,2H15a1,1,0,0,0,0,2h3.59L8.29,14.29a1,1,0,0,0,0,1.42,1,1,0,0,0,1.42,0L20,5.41V9a1,1,0,0,0,2,0V3A1,1,0,0,0,21.92,2.62Z\" fill=\"#000000\"></path></svg></h2>"
      ]
     },
     "execution_count": 3,
     "metadata": {},
     "output_type": "execute_result"
    }
   ],
   "source": [
    "nan=soup.find('h2',class_=\"heading-6 font-semi-bold nb__25Cl7\")\n",
    "nan"
   ]
  },
  {
   "cell_type": "code",
   "execution_count": 4,
   "id": "fb3e2d85",
   "metadata": {},
   "outputs": [
    {
     "data": {
      "text/plain": [
       "'4 BHK In Independent House  For Sale  In Hebbagodi '"
      ]
     },
     "execution_count": 4,
     "metadata": {},
     "output_type": "execute_result"
    }
   ],
   "source": [
    "nan.text"
   ]
  },
  {
   "cell_type": "code",
   "execution_count": null,
   "id": "2ad63cae",
   "metadata": {},
   "outputs": [],
   "source": []
  },
  {
   "cell_type": "code",
   "execution_count": 5,
   "id": "127fb6b9",
   "metadata": {},
   "outputs": [
    {
     "data": {
      "text/plain": [
       "<div class=\"nb__FfHqA\">1,800 sqft</div>"
      ]
     },
     "execution_count": 5,
     "metadata": {},
     "output_type": "execute_result"
    }
   ],
   "source": [
    "square_feet=soup.find('div',class_=\"nb__FfHqA\")\n",
    "square_feet"
   ]
  },
  {
   "cell_type": "code",
   "execution_count": 6,
   "id": "71291c09",
   "metadata": {},
   "outputs": [
    {
     "data": {
      "text/plain": [
       "'1,800 sqft'"
      ]
     },
     "execution_count": 6,
     "metadata": {},
     "output_type": "execute_result"
    }
   ],
   "source": [
    "square_feet.text"
   ]
  },
  {
   "cell_type": "code",
   "execution_count": 7,
   "id": "7e4586cb",
   "metadata": {},
   "outputs": [
    {
     "data": {
      "text/plain": [
       "<h2 class=\"heading-6 font-semi-bold nb__25Cl7\"><span itemprop=\"name\">4 BHK In Independent House  For Sale  In Hebbagodi</span> <svg class=\"\" style=\"width:24px;height:24px;margin:2px\" type=\"link\" viewbox=\"0 0 24 24\"><path class=\"\" d=\"M18,10.82a1,1,0,0,0-1,1V19a1,1,0,0,1-1,1H5a1,1,0,0,1-1-1V8A1,1,0,0,1,5,7h7.18a1,1,0,0,0,0-2H5A3,3,0,0,0,2,8V19a3,3,0,0,0,3,3H16a3,3,0,0,0,3-3V11.82A1,1,0,0,0,18,10.82Zm3.92-8.2a1,1,0,0,0-.54-.54A1,1,0,0,0,21,2H15a1,1,0,0,0,0,2h3.59L8.29,14.29a1,1,0,0,0,0,1.42,1,1,0,0,0,1.42,0L20,5.41V9a1,1,0,0,0,2,0V3A1,1,0,0,0,21.92,2.62Z\" fill=\"#000000\"></path></svg></h2>"
      ]
     },
     "execution_count": 7,
     "metadata": {},
     "output_type": "execute_result"
    }
   ],
   "source": [
    "house_title=soup.find('h2',class_=\"heading-6 font-semi-bold nb__25Cl7\")\n",
    "house_title"
   ]
  },
  {
   "cell_type": "code",
   "execution_count": 8,
   "id": "cd788ccc",
   "metadata": {},
   "outputs": [
    {
     "data": {
      "text/plain": [
       "'4 BHK In Independent House  For Sale  In Hebbagodi '"
      ]
     },
     "execution_count": 8,
     "metadata": {},
     "output_type": "execute_result"
    }
   ],
   "source": [
    "house_title.text"
   ]
  },
  {
   "cell_type": "code",
   "execution_count": 9,
   "id": "e5908960",
   "metadata": {},
   "outputs": [
    {
     "data": {
      "text/plain": [
       "<div class=\"nb__1EwQz\">Independent House, Bangalore - Hosur Road, Near  National Public School</div>"
      ]
     },
     "execution_count": 9,
     "metadata": {},
     "output_type": "execute_result"
    }
   ],
   "source": [
    "location=soup.find('div',class_=\"nb__1EwQz\")\n",
    "location"
   ]
  },
  {
   "cell_type": "code",
   "execution_count": 10,
   "id": "ee268e74",
   "metadata": {},
   "outputs": [
    {
     "data": {
      "text/plain": [
       "'Independent House, Bangalore - Hosur Road, Near  National Public School'"
      ]
     },
     "execution_count": 10,
     "metadata": {},
     "output_type": "execute_result"
    }
   ],
   "source": [
    "location.text"
   ]
  },
  {
   "cell_type": "code",
   "execution_count": null,
   "id": "bef264ac",
   "metadata": {},
   "outputs": [],
   "source": []
  },
  {
   "cell_type": "code",
   "execution_count": 11,
   "id": "165e9378",
   "metadata": {},
   "outputs": [],
   "source": [
    "name =[]     # give empty list here\n",
    "for i in soup.find_all('div',class_=\"font-semi-bold heading-6\"):\n",
    "    \n",
    "    name.append(i.text)\n",
    "\n"
   ]
  },
  {
   "cell_type": "code",
   "execution_count": null,
   "id": "48413afc",
   "metadata": {},
   "outputs": [],
   "source": []
  },
  {
   "cell_type": "code",
   "execution_count": 12,
   "id": "cba5e95b",
   "metadata": {},
   "outputs": [
    {
     "data": {
      "text/plain": [
       "['1,800 sqft',\n",
       " '1,400 sqft',\n",
       " '2,000 sqft',\n",
       " '1,120 sqft',\n",
       " '2,000 sqft',\n",
       " '1,879 sqft',\n",
       " '2,600 sqft',\n",
       " '2,000 sqft',\n",
       " '3,000 sqft',\n",
       " '3,000 sqft',\n",
       " '1,200 sqft',\n",
       " '2,650 sqft',\n",
       " '3,100 sqft',\n",
       " '2,350 sqft',\n",
       " '3,000 sqft',\n",
       " '1,500 sqft']"
      ]
     },
     "execution_count": 12,
     "metadata": {},
     "output_type": "execute_result"
    }
   ],
   "source": [
    "square_feet =[]     # give empty list here\n",
    "for i in soup.find_all('div',class_=\"nb__FfHqA\"):\n",
    "    square_feet.append(i.text)\n",
    "\n",
    "square_feet"
   ]
  },
  {
   "cell_type": "code",
   "execution_count": 13,
   "id": "7c4280d6",
   "metadata": {},
   "outputs": [
    {
     "data": {
      "text/plain": [
       "['4 BHK In Independent House  For Sale  In Hebbagodi ',\n",
       " '4 BHK In Independent House  For Sale  In Electronic City ',\n",
       " '4 BHK In Independent House  For Sale  In Electronics City Phase 1, Electronic City ',\n",
       " '4 BHK Flat  For Sale  In Electronic City ',\n",
       " '4 BHK Apartment  For Sale  In Nisarga Residency In Electronic City Phase Ii ',\n",
       " '4 BHK Flat  For Sale  In Sobha Silicon Oasis  In Hosa Road ',\n",
       " '4 BHK For Sale  In Daadys Garden In Electronic City ',\n",
       " '4 BHK Flat  For Sale  In , Electronic City ',\n",
       " '4 BHK Flat  For Sale  In Hosa Road, Parappana Agrahara ',\n",
       " '4 BHK In Independent House  For Sale  In Electronic City ',\n",
       " '4 BHK In Independent House  For Sale  In Electronic City ',\n",
       " '4 BHK Apartment  For Sale  In Gopalan Gardenia In Electronic City ',\n",
       " '4 BHK For Sale  In Gpr Royale In Gpr Royale ',\n",
       " '4 BHK Flat  For Sale  In Heena Enclave In Electronic City ',\n",
       " '4 BHK For Sale  In Deccan Palms Park In Electronic City ',\n",
       " '4 BHK In Independent House  For Sale  In Electronic City Phase Ii ']"
      ]
     },
     "execution_count": 13,
     "metadata": {},
     "output_type": "execute_result"
    }
   ],
   "source": [
    "house_title =[]     # give empty list here\n",
    "for i in soup.find_all('h2',class_=\"heading-6 font-semi-bold nb__25Cl7\"):\n",
    "    house_title.append(i.text)\n",
    "\n",
    "house_title"
   ]
  },
  {
   "cell_type": "code",
   "execution_count": 14,
   "id": "9444a26f",
   "metadata": {},
   "outputs": [
    {
     "data": {
      "text/plain": [
       "['Independent House, Bangalore - Hosur Road, Near  National Public School',\n",
       " 'Independent House, Shanthi Pura, Electronic City Phase II,Near Sallapuriyamma Temple Shanthipura',\n",
       " 'Independent House, brand factory',\n",
       " 'Standalone Building, YOUNG LIFE PG FOR LADIES, Konappana Agrahara, Electronic City, Bengaluru, Karnataka, India',\n",
       " 'Nisarga Residency\\xa0 Near Thali Resturant, Ananth Nagar, Electronic City Phase II, Bangalore, Karnataka, INDIA.',\n",
       " 'Sobha Silicon Oasis Naganathapura, Rayasandra Bengaluru, Karnataka 560100 India',\n",
       " 'Daadys Garden\\xa0 Kammasandra Rd, Kammasandra, Electronic City, Bengaluru, Karnataka 560100, India',\n",
       " 'Standalone Building, 16th Cross Road Neeladri Nagar, near by brand factory',\n",
       " 'Standalone Building, 11th cross.anjanadri lay out',\n",
       " 'Independent House, surya nagar face 1',\n",
       " 'Independent House, Hosur Rd,Near Infosys Limited',\n",
       " 'Gopalan Gardenia\\xa0 Gopalan gardenia, Veerasandra Main Rd, Veer Sandra, Electronic City, Bengaluru, Karnataka 560100, India',\n",
       " '6th Cross',\n",
       " ' Neeladri Nagar,Near Pioneer Sun Blossom',\n",
       " 'Deccan Palms Park\\xa0 Deccan Palms Villas, Deccan Palms Road, Shree Ananth Nagar Layout, Glass Factory Layout, Electronic City, Bengaluru, Karnataka 560100, India',\n",
       " 'Independent House, Industrial Area Near Tech Mahindra']"
      ]
     },
     "execution_count": 14,
     "metadata": {},
     "output_type": "execute_result"
    }
   ],
   "source": [
    " location =[]     # give empty list here\n",
    "for i in soup.find_all('div',class_=\"nb__1EwQz\"):\n",
    "    location.append(i.text)\n",
    "\n",
    "location"
   ]
  },
  {
   "cell_type": "code",
   "execution_count": 15,
   "id": "2cef8d38",
   "metadata": {},
   "outputs": [
    {
     "data": {
      "text/plain": [
       "['Not under loan₹ ',\n",
       " '1,800 sqftBuiltup',\n",
       " '₹77,374/MonthEstimated EMI',\n",
       " '₹1.35 Crores₹7,500 per sq.ft.',\n",
       " 'Under Loan₹ ',\n",
       " '1,400 sqftBuiltup',\n",
       " '₹31,522/MonthEstimated EMI',\n",
       " '₹55 Lacs₹3,929 per sq.ft.',\n",
       " 'Not under loan₹ ',\n",
       " '2,000 sqftBuiltup',\n",
       " '₹39,546/MonthEstimated EMI',\n",
       " '₹69 Lacs₹3,450 per sq.ft.',\n",
       " 'Not under loan₹ ',\n",
       " '1,120 sqftBuiltup',\n",
       " '₹28,657/MonthEstimated EMI',\n",
       " '₹50 Lacs₹4,464 per sq.ft.',\n",
       " 'Not under loan₹ ',\n",
       " '2,000 sqftBuiltup',\n",
       " '₹45,851/MonthEstimated EMI',\n",
       " '₹80 Lacs₹4,000 per sq.ft.',\n",
       " 'Under Loan₹ ',\n",
       " '1,879 sqftBuiltup',\n",
       " '₹91,703/MonthEstimated EMI',\n",
       " '₹1.6 Crores₹8,515 per sq.ft.',\n",
       " 'Not under loan₹ ',\n",
       " '2,600 sqftBuiltup',\n",
       " '₹85,971/MonthEstimated EMI',\n",
       " '₹1.5 Crores₹5,769 per sq.ft.',\n",
       " 'Not under loan₹ ',\n",
       " '2,000 sqftBuiltup',\n",
       " '₹39,546/MonthEstimated EMI',\n",
       " '₹69 Lacs₹3,450 per sq.ft.',\n",
       " 'Under Loan₹ ',\n",
       " '3,000 sqftBuiltup',\n",
       " '₹71,643/MonthEstimated EMI',\n",
       " '₹1.25 Crores₹4,167 per sq.ft.',\n",
       " 'Not under loan₹ ',\n",
       " '3,000 sqftBuiltup',\n",
       " '₹1.43 Lacs/MonthEstimated EMI',\n",
       " '₹2.5 Crores₹8,333 per sq.ft.',\n",
       " 'Not under loan₹ ',\n",
       " '1,200 sqftBuiltup',\n",
       " '₹42,985/MonthEstimated EMI',\n",
       " '₹75 Lacs₹6,250 per sq.ft.',\n",
       " 'Under Loan₹ ',\n",
       " '2,650 sqftBuiltup',\n",
       " '₹68,777/MonthEstimated EMI',\n",
       " '₹1.2 Crores₹4,528 per sq.ft.',\n",
       " 'Not under loan₹ ',\n",
       " '3,100 sqftBuiltup',\n",
       " '₹85,971/MonthEstimated EMI',\n",
       " '₹1.5 Crores₹4,839 per sq.ft.',\n",
       " 'Not under loan₹ ',\n",
       " '2,350 sqftBuiltup',\n",
       " '₹71,643/MonthEstimated EMI',\n",
       " '₹1.25 Crores₹5,319 per sq.ft.',\n",
       " 'Not under loan₹ ',\n",
       " '3,000 sqftBuiltup',\n",
       " '₹85,971/MonthEstimated EMI',\n",
       " '₹1.5 Crores₹5,000 per sq.ft.',\n",
       " 'Under Loan₹ ',\n",
       " '1,500 sqftBuiltup',\n",
       " '₹57,314/MonthEstimated EMI',\n",
       " '₹1 Crore₹6,667 per sq.ft.']"
      ]
     },
     "execution_count": 15,
     "metadata": {},
     "output_type": "execute_result"
    }
   ],
   "source": [
    " locati =[]     # give empty list here\n",
    "for i in soup.find_all('div',class_=\"nb__4L90a\"):\n",
    "    locati.append(i.text)\n",
    "\n",
    "locati"
   ]
  },
  {
   "cell_type": "code",
   "execution_count": 16,
   "id": "32c9016f",
   "metadata": {},
   "outputs": [
    {
     "data": {
      "text/plain": [
       "['1,800 sqftBuiltup',\n",
       " '₹77,374/MonthEstimated EMI',\n",
       " '₹1.35 Crores₹7,500 per sq.ft.',\n",
       " 'Under Loan₹ ',\n",
       " '1,400 sqftBuiltup',\n",
       " '₹31,522/MonthEstimated EMI',\n",
       " '₹55 Lacs₹3,929 per sq.ft.',\n",
       " 'Not under loan₹ ',\n",
       " '2,000 sqftBuiltup',\n",
       " '₹39,546/MonthEstimated EMI',\n",
       " '₹69 Lacs₹3,450 per sq.ft.',\n",
       " 'Not under loan₹ ',\n",
       " '1,120 sqftBuiltup',\n",
       " '₹28,657/MonthEstimated EMI',\n",
       " '₹50 Lacs₹4,464 per sq.ft.',\n",
       " 'Not under loan₹ ',\n",
       " '2,000 sqftBuiltup',\n",
       " '₹45,851/MonthEstimated EMI',\n",
       " '₹80 Lacs₹4,000 per sq.ft.',\n",
       " 'Under Loan₹ ',\n",
       " '1,879 sqftBuiltup',\n",
       " '₹91,703/MonthEstimated EMI',\n",
       " '₹1.6 Crores₹8,515 per sq.ft.',\n",
       " 'Not under loan₹ ',\n",
       " '2,600 sqftBuiltup',\n",
       " '₹85,971/MonthEstimated EMI',\n",
       " '₹1.5 Crores₹5,769 per sq.ft.',\n",
       " 'Not under loan₹ ',\n",
       " '2,000 sqftBuiltup',\n",
       " '₹39,546/MonthEstimated EMI',\n",
       " '₹69 Lacs₹3,450 per sq.ft.',\n",
       " 'Under Loan₹ ',\n",
       " '3,000 sqftBuiltup',\n",
       " '₹71,643/MonthEstimated EMI',\n",
       " '₹1.25 Crores₹4,167 per sq.ft.',\n",
       " 'Not under loan₹ ',\n",
       " '3,000 sqftBuiltup',\n",
       " '₹1.43 Lacs/MonthEstimated EMI',\n",
       " '₹2.5 Crores₹8,333 per sq.ft.',\n",
       " 'Not under loan₹ ',\n",
       " '1,200 sqftBuiltup',\n",
       " '₹42,985/MonthEstimated EMI',\n",
       " '₹75 Lacs₹6,250 per sq.ft.',\n",
       " 'Under Loan₹ ',\n",
       " '2,650 sqftBuiltup',\n",
       " '₹68,777/MonthEstimated EMI',\n",
       " '₹1.2 Crores₹4,528 per sq.ft.',\n",
       " 'Not under loan₹ ',\n",
       " '3,100 sqftBuiltup',\n",
       " '₹85,971/MonthEstimated EMI',\n",
       " '₹1.5 Crores₹4,839 per sq.ft.',\n",
       " 'Not under loan₹ ',\n",
       " '2,350 sqftBuiltup',\n",
       " '₹71,643/MonthEstimated EMI',\n",
       " '₹1.25 Crores₹5,319 per sq.ft.',\n",
       " 'Not under loan₹ ',\n",
       " '3,000 sqftBuiltup',\n",
       " '₹85,971/MonthEstimated EMI',\n",
       " '₹1.5 Crores₹5,000 per sq.ft.',\n",
       " 'Under Loan₹ ',\n",
       " '1,500 sqftBuiltup',\n",
       " '₹57,314/MonthEstimated EMI',\n",
       " '₹1 Crore₹6,667 per sq.ft.']"
      ]
     },
     "execution_count": 16,
     "metadata": {},
     "output_type": "execute_result"
    }
   ],
   "source": [
    "po=[]\n",
    "for i in range(1, len(locati),1):\n",
    "    po.append(locati[i])\n",
    "po    \n",
    "    "
   ]
  },
  {
   "cell_type": "code",
   "execution_count": 17,
   "id": "36fb4abd",
   "metadata": {},
   "outputs": [
    {
     "data": {
      "text/plain": [
       "['1,800 sqft',\n",
       " '₹77,374/Month',\n",
       " '₹1.35 Crores',\n",
       " '1,400 sqft',\n",
       " '₹31,522/Month',\n",
       " '₹55 Lacs',\n",
       " '2,000 sqft',\n",
       " '₹39,546/Month',\n",
       " '₹69 Lacs',\n",
       " '1,120 sqft',\n",
       " '₹28,657/Month',\n",
       " '₹50 Lacs',\n",
       " '2,000 sqft',\n",
       " '₹45,851/Month',\n",
       " '₹80 Lacs',\n",
       " '1,879 sqft',\n",
       " '₹91,703/Month',\n",
       " '₹1.6 Crores',\n",
       " '2,600 sqft',\n",
       " '₹85,971/Month',\n",
       " '₹1.5 Crores',\n",
       " '2,000 sqft',\n",
       " '₹39,546/Month',\n",
       " '₹69 Lacs',\n",
       " '3,000 sqft',\n",
       " '₹71,643/Month',\n",
       " '₹1.25 Crores',\n",
       " '3,000 sqft',\n",
       " '₹1.43 Lacs/Month',\n",
       " '₹2.5 Crores',\n",
       " '1,200 sqft',\n",
       " '₹42,985/Month',\n",
       " '₹75 Lacs',\n",
       " '2,650 sqft',\n",
       " '₹68,777/Month',\n",
       " '₹1.2 Crores',\n",
       " '3,100 sqft',\n",
       " '₹85,971/Month',\n",
       " '₹1.5 Crores',\n",
       " '2,350 sqft',\n",
       " '₹71,643/Month',\n",
       " '₹1.25 Crores',\n",
       " '3,000 sqft',\n",
       " '₹85,971/Month',\n",
       " '₹1.5 Crores',\n",
       " '1,500 sqft',\n",
       " '₹57,314/Month',\n",
       " '₹1 Crore']"
      ]
     },
     "execution_count": 17,
     "metadata": {},
     "output_type": "execute_result"
    }
   ],
   "source": [
    "full_info = []\n",
    "\n",
    "detail = soup.find_all('div',class_=\"font-semi-bold heading-6\")\n",
    "\n",
    "for i in detail:\n",
    "\n",
    "    full_info.append(i.text)\n",
    "full_info\n",
    "    "
   ]
  },
  {
   "cell_type": "code",
   "execution_count": 18,
   "id": "a202634e",
   "metadata": {},
   "outputs": [],
   "source": [
    "emi=[]\n",
    "rate=[]\n",
    "full_info=[]\n"
   ]
  },
  {
   "cell_type": "code",
   "execution_count": 19,
   "id": "eb119939",
   "metadata": {},
   "outputs": [],
   "source": [
    "for i in soup.find_all(\"div\",class_=\"font-semi-bold heading-6\"):\n",
    "    full_info.append(i.text)\n",
    "for i in range(0,len(full_info)-1,2):\n",
    "    emi.append(full_info[i])\n",
    "    rate.append(full_info[i+1])\n",
    "    \n",
    "    "
   ]
  },
  {
   "cell_type": "code",
   "execution_count": 20,
   "id": "310b0e0c",
   "metadata": {},
   "outputs": [
    {
     "data": {
      "text/plain": [
       "['₹77,374/Month',\n",
       " '1,400 sqft',\n",
       " '₹55 Lacs',\n",
       " '₹39,546/Month',\n",
       " '1,120 sqft',\n",
       " '₹50 Lacs',\n",
       " '₹45,851/Month',\n",
       " '1,879 sqft',\n",
       " '₹1.6 Crores',\n",
       " '₹85,971/Month',\n",
       " '2,000 sqft',\n",
       " '₹69 Lacs',\n",
       " '₹71,643/Month',\n",
       " '3,000 sqft',\n",
       " '₹2.5 Crores',\n",
       " '₹42,985/Month',\n",
       " '2,650 sqft',\n",
       " '₹1.2 Crores',\n",
       " '₹85,971/Month',\n",
       " '2,350 sqft',\n",
       " '₹1.25 Crores',\n",
       " '₹85,971/Month',\n",
       " '1,500 sqft',\n",
       " '₹1 Crore']"
      ]
     },
     "execution_count": 20,
     "metadata": {},
     "output_type": "execute_result"
    }
   ],
   "source": [
    "rate"
   ]
  },
  {
   "cell_type": "code",
   "execution_count": 21,
   "id": "2fbdbaec",
   "metadata": {},
   "outputs": [],
   "source": [
    "point=[]\n",
    "for i in range(1, len(full_info),2):\n",
    "    point.append(full_info[i])\n",
    "    "
   ]
  },
  {
   "cell_type": "code",
   "execution_count": 22,
   "id": "1dd232ff",
   "metadata": {},
   "outputs": [
    {
     "data": {
      "text/plain": [
       "['₹77,374/Month',\n",
       " '1,400 sqft',\n",
       " '₹55 Lacs',\n",
       " '₹39,546/Month',\n",
       " '1,120 sqft',\n",
       " '₹50 Lacs',\n",
       " '₹45,851/Month',\n",
       " '1,879 sqft',\n",
       " '₹1.6 Crores',\n",
       " '₹85,971/Month',\n",
       " '2,000 sqft',\n",
       " '₹69 Lacs',\n",
       " '₹71,643/Month',\n",
       " '3,000 sqft',\n",
       " '₹2.5 Crores',\n",
       " '₹42,985/Month',\n",
       " '2,650 sqft',\n",
       " '₹1.2 Crores',\n",
       " '₹85,971/Month',\n",
       " '2,350 sqft',\n",
       " '₹1.25 Crores',\n",
       " '₹85,971/Month',\n",
       " '1,500 sqft',\n",
       " '₹1 Crore']"
      ]
     },
     "execution_count": 22,
     "metadata": {},
     "output_type": "execute_result"
    }
   ],
   "source": [
    "point"
   ]
  },
  {
   "cell_type": "code",
   "execution_count": 23,
   "id": "97585b65",
   "metadata": {},
   "outputs": [],
   "source": [
    "poin=[]\n",
    "for i in range(0, len(point),):\n",
    "    poin.append(point[i])\n",
    "    \n",
    "    "
   ]
  },
  {
   "cell_type": "code",
   "execution_count": 24,
   "id": "b4ec517e",
   "metadata": {},
   "outputs": [
    {
     "data": {
      "text/plain": [
       "['₹77,374/Month',\n",
       " '1,400 sqft',\n",
       " '₹55 Lacs',\n",
       " '₹39,546/Month',\n",
       " '1,120 sqft',\n",
       " '₹50 Lacs',\n",
       " '₹45,851/Month',\n",
       " '1,879 sqft',\n",
       " '₹1.6 Crores',\n",
       " '₹85,971/Month',\n",
       " '2,000 sqft',\n",
       " '₹69 Lacs',\n",
       " '₹71,643/Month',\n",
       " '3,000 sqft',\n",
       " '₹2.5 Crores',\n",
       " '₹42,985/Month',\n",
       " '2,650 sqft',\n",
       " '₹1.2 Crores',\n",
       " '₹85,971/Month',\n",
       " '2,350 sqft',\n",
       " '₹1.25 Crores',\n",
       " '₹85,971/Month',\n",
       " '1,500 sqft',\n",
       " '₹1 Crore']"
      ]
     },
     "execution_count": 24,
     "metadata": {},
     "output_type": "execute_result"
    }
   ],
   "source": [
    "poin"
   ]
  },
  {
   "cell_type": "code",
   "execution_count": 25,
   "id": "fd8bb63a",
   "metadata": {},
   "outputs": [
    {
     "name": "stdout",
     "output_type": "stream",
     "text": [
      "24 48 16 16 16\n"
     ]
    }
   ],
   "source": [
    "# print length\n",
    "print(len(point),len(full_info),len(location),len(house_title),len(square_feet))"
   ]
  },
  {
   "cell_type": "code",
   "execution_count": null,
   "id": "a331ff6b",
   "metadata": {},
   "outputs": [],
   "source": []
  },
  {
   "cell_type": "code",
   "execution_count": 26,
   "id": "1b2c9eb5",
   "metadata": {},
   "outputs": [],
   "source": [
    "import pandas as pd"
   ]
  },
  {
   "cell_type": "code",
   "execution_count": 27,
   "id": "10c870f8",
   "metadata": {},
   "outputs": [
    {
     "data": {
      "text/html": [
       "<div>\n",
       "<style scoped>\n",
       "    .dataframe tbody tr th:only-of-type {\n",
       "        vertical-align: middle;\n",
       "    }\n",
       "\n",
       "    .dataframe tbody tr th {\n",
       "        vertical-align: top;\n",
       "    }\n",
       "\n",
       "    .dataframe thead th {\n",
       "        text-align: right;\n",
       "    }\n",
       "</style>\n",
       "<table border=\"1\" class=\"dataframe\">\n",
       "  <thead>\n",
       "    <tr style=\"text-align: right;\">\n",
       "      <th></th>\n",
       "      <th>House Title</th>\n",
       "      <th>Area</th>\n",
       "      <th>Location</th>\n",
       "    </tr>\n",
       "  </thead>\n",
       "  <tbody>\n",
       "    <tr>\n",
       "      <th>0</th>\n",
       "      <td>4 BHK In Independent House  For Sale  In Hebba...</td>\n",
       "      <td>1,800 sqft</td>\n",
       "      <td>Independent House, Bangalore - Hosur Road, Nea...</td>\n",
       "    </tr>\n",
       "    <tr>\n",
       "      <th>1</th>\n",
       "      <td>4 BHK In Independent House  For Sale  In Elect...</td>\n",
       "      <td>1,400 sqft</td>\n",
       "      <td>Independent House, Shanthi Pura, Electronic Ci...</td>\n",
       "    </tr>\n",
       "    <tr>\n",
       "      <th>2</th>\n",
       "      <td>4 BHK In Independent House  For Sale  In Elect...</td>\n",
       "      <td>2,000 sqft</td>\n",
       "      <td>Independent House, brand factory</td>\n",
       "    </tr>\n",
       "    <tr>\n",
       "      <th>3</th>\n",
       "      <td>4 BHK Flat  For Sale  In Electronic City</td>\n",
       "      <td>1,120 sqft</td>\n",
       "      <td>Standalone Building, YOUNG LIFE PG FOR LADIES,...</td>\n",
       "    </tr>\n",
       "    <tr>\n",
       "      <th>4</th>\n",
       "      <td>4 BHK Apartment  For Sale  In Nisarga Residenc...</td>\n",
       "      <td>2,000 sqft</td>\n",
       "      <td>Nisarga Residency  Near Thali Resturant, Anant...</td>\n",
       "    </tr>\n",
       "    <tr>\n",
       "      <th>5</th>\n",
       "      <td>4 BHK Flat  For Sale  In Sobha Silicon Oasis  ...</td>\n",
       "      <td>1,879 sqft</td>\n",
       "      <td>Sobha Silicon Oasis Naganathapura, Rayasandra ...</td>\n",
       "    </tr>\n",
       "    <tr>\n",
       "      <th>6</th>\n",
       "      <td>4 BHK For Sale  In Daadys Garden In Electronic...</td>\n",
       "      <td>2,600 sqft</td>\n",
       "      <td>Daadys Garden  Kammasandra Rd, Kammasandra, El...</td>\n",
       "    </tr>\n",
       "    <tr>\n",
       "      <th>7</th>\n",
       "      <td>4 BHK Flat  For Sale  In , Electronic City</td>\n",
       "      <td>2,000 sqft</td>\n",
       "      <td>Standalone Building, 16th Cross Road Neeladri ...</td>\n",
       "    </tr>\n",
       "    <tr>\n",
       "      <th>8</th>\n",
       "      <td>4 BHK Flat  For Sale  In Hosa Road, Parappana ...</td>\n",
       "      <td>3,000 sqft</td>\n",
       "      <td>Standalone Building, 11th cross.anjanadri lay out</td>\n",
       "    </tr>\n",
       "    <tr>\n",
       "      <th>9</th>\n",
       "      <td>4 BHK In Independent House  For Sale  In Elect...</td>\n",
       "      <td>3,000 sqft</td>\n",
       "      <td>Independent House, surya nagar face 1</td>\n",
       "    </tr>\n",
       "    <tr>\n",
       "      <th>10</th>\n",
       "      <td>4 BHK In Independent House  For Sale  In Elect...</td>\n",
       "      <td>1,200 sqft</td>\n",
       "      <td>Independent House, Hosur Rd,Near Infosys Limited</td>\n",
       "    </tr>\n",
       "    <tr>\n",
       "      <th>11</th>\n",
       "      <td>4 BHK Apartment  For Sale  In Gopalan Gardenia...</td>\n",
       "      <td>2,650 sqft</td>\n",
       "      <td>Gopalan Gardenia  Gopalan gardenia, Veerasandr...</td>\n",
       "    </tr>\n",
       "    <tr>\n",
       "      <th>12</th>\n",
       "      <td>4 BHK For Sale  In Gpr Royale In Gpr Royale</td>\n",
       "      <td>3,100 sqft</td>\n",
       "      <td>6th Cross</td>\n",
       "    </tr>\n",
       "    <tr>\n",
       "      <th>13</th>\n",
       "      <td>4 BHK Flat  For Sale  In Heena Enclave In Elec...</td>\n",
       "      <td>2,350 sqft</td>\n",
       "      <td>Neeladri Nagar,Near Pioneer Sun Blossom</td>\n",
       "    </tr>\n",
       "    <tr>\n",
       "      <th>14</th>\n",
       "      <td>4 BHK For Sale  In Deccan Palms Park In Electr...</td>\n",
       "      <td>3,000 sqft</td>\n",
       "      <td>Deccan Palms Park  Deccan Palms Villas, Deccan...</td>\n",
       "    </tr>\n",
       "    <tr>\n",
       "      <th>15</th>\n",
       "      <td>4 BHK In Independent House  For Sale  In Elect...</td>\n",
       "      <td>1,500 sqft</td>\n",
       "      <td>Independent House, Industrial Area Near Tech M...</td>\n",
       "    </tr>\n",
       "  </tbody>\n",
       "</table>\n",
       "</div>"
      ],
      "text/plain": [
       "                                          House Title        Area  \\\n",
       "0   4 BHK In Independent House  For Sale  In Hebba...  1,800 sqft   \n",
       "1   4 BHK In Independent House  For Sale  In Elect...  1,400 sqft   \n",
       "2   4 BHK In Independent House  For Sale  In Elect...  2,000 sqft   \n",
       "3           4 BHK Flat  For Sale  In Electronic City   1,120 sqft   \n",
       "4   4 BHK Apartment  For Sale  In Nisarga Residenc...  2,000 sqft   \n",
       "5   4 BHK Flat  For Sale  In Sobha Silicon Oasis  ...  1,879 sqft   \n",
       "6   4 BHK For Sale  In Daadys Garden In Electronic...  2,600 sqft   \n",
       "7         4 BHK Flat  For Sale  In , Electronic City   2,000 sqft   \n",
       "8   4 BHK Flat  For Sale  In Hosa Road, Parappana ...  3,000 sqft   \n",
       "9   4 BHK In Independent House  For Sale  In Elect...  3,000 sqft   \n",
       "10  4 BHK In Independent House  For Sale  In Elect...  1,200 sqft   \n",
       "11  4 BHK Apartment  For Sale  In Gopalan Gardenia...  2,650 sqft   \n",
       "12       4 BHK For Sale  In Gpr Royale In Gpr Royale   3,100 sqft   \n",
       "13  4 BHK Flat  For Sale  In Heena Enclave In Elec...  2,350 sqft   \n",
       "14  4 BHK For Sale  In Deccan Palms Park In Electr...  3,000 sqft   \n",
       "15  4 BHK In Independent House  For Sale  In Elect...  1,500 sqft   \n",
       "\n",
       "                                             Location  \n",
       "0   Independent House, Bangalore - Hosur Road, Nea...  \n",
       "1   Independent House, Shanthi Pura, Electronic Ci...  \n",
       "2                    Independent House, brand factory  \n",
       "3   Standalone Building, YOUNG LIFE PG FOR LADIES,...  \n",
       "4   Nisarga Residency  Near Thali Resturant, Anant...  \n",
       "5   Sobha Silicon Oasis Naganathapura, Rayasandra ...  \n",
       "6   Daadys Garden  Kammasandra Rd, Kammasandra, El...  \n",
       "7   Standalone Building, 16th Cross Road Neeladri ...  \n",
       "8   Standalone Building, 11th cross.anjanadri lay out  \n",
       "9               Independent House, surya nagar face 1  \n",
       "10   Independent House, Hosur Rd,Near Infosys Limited  \n",
       "11  Gopalan Gardenia  Gopalan gardenia, Veerasandr...  \n",
       "12                                          6th Cross  \n",
       "13            Neeladri Nagar,Near Pioneer Sun Blossom  \n",
       "14  Deccan Palms Park  Deccan Palms Villas, Deccan...  \n",
       "15  Independent House, Industrial Area Near Tech M...  "
      ]
     },
     "execution_count": 27,
     "metadata": {},
     "output_type": "execute_result"
    }
   ],
   "source": [
    "df=pd.DataFrame({'House Title':house_title,'Area':square_feet,'Location': location})\n",
    "df\n"
   ]
  },
  {
   "cell_type": "code",
   "execution_count": null,
   "id": "97ab48bf",
   "metadata": {},
   "outputs": [],
   "source": []
  },
  {
   "cell_type": "code",
   "execution_count": null,
   "id": "7abe3500",
   "metadata": {},
   "outputs": [],
   "source": []
  },
  {
   "cell_type": "code",
   "execution_count": null,
   "id": "1d4b216c",
   "metadata": {},
   "outputs": [],
   "source": []
  },
  {
   "cell_type": "code",
   "execution_count": null,
   "id": "d9b18d45",
   "metadata": {},
   "outputs": [],
   "source": []
  },
  {
   "cell_type": "code",
   "execution_count": null,
   "id": "d9f8d868",
   "metadata": {},
   "outputs": [],
   "source": []
  },
  {
   "cell_type": "code",
   "execution_count": null,
   "id": "00776f4f",
   "metadata": {},
   "outputs": [],
   "source": []
  },
  {
   "cell_type": "code",
   "execution_count": null,
   "id": "ded4237c",
   "metadata": {},
   "outputs": [],
   "source": []
  },
  {
   "cell_type": "code",
   "execution_count": null,
   "id": "f9c96643",
   "metadata": {},
   "outputs": [],
   "source": [
    "\n"
   ]
  },
  {
   "cell_type": "code",
   "execution_count": null,
   "id": "411c9a56",
   "metadata": {},
   "outputs": [],
   "source": []
  },
  {
   "cell_type": "code",
   "execution_count": null,
   "id": "773275fb",
   "metadata": {},
   "outputs": [],
   "source": []
  },
  {
   "cell_type": "code",
   "execution_count": null,
   "id": "a9cf8ce2",
   "metadata": {},
   "outputs": [],
   "source": []
  },
  {
   "cell_type": "code",
   "execution_count": null,
   "id": "a5615368",
   "metadata": {},
   "outputs": [],
   "source": []
  },
  {
   "cell_type": "code",
   "execution_count": null,
   "id": "21569af9",
   "metadata": {},
   "outputs": [],
   "source": []
  },
  {
   "cell_type": "code",
   "execution_count": null,
   "id": "da16c2b0",
   "metadata": {},
   "outputs": [],
   "source": []
  },
  {
   "cell_type": "code",
   "execution_count": null,
   "id": "f01802d3",
   "metadata": {},
   "outputs": [],
   "source": []
  },
  {
   "cell_type": "code",
   "execution_count": null,
   "id": "79e9dfff",
   "metadata": {},
   "outputs": [],
   "source": []
  }
 ],
 "metadata": {
  "kernelspec": {
   "display_name": "Python 3",
   "language": "python",
   "name": "python3"
  },
  "language_info": {
   "codemirror_mode": {
    "name": "ipython",
    "version": 3
   },
   "file_extension": ".py",
   "mimetype": "text/x-python",
   "name": "python",
   "nbconvert_exporter": "python",
   "pygments_lexer": "ipython3",
   "version": "3.8.8"
  }
 },
 "nbformat": 4,
 "nbformat_minor": 5
}
